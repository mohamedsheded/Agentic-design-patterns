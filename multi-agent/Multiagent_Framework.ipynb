{
  "nbformat": 4,
  "nbformat_minor": 0,
  "metadata": {
    "colab": {
      "provenance": []
    },
    "kernelspec": {
      "name": "python3",
      "display_name": "Python 3"
    },
    "language_info": {
      "name": "python"
    }
  },
  "cells": [
    {
      "cell_type": "code",
      "execution_count": null,
      "metadata": {
        "id": "1lRfJy3Esa01"
      },
      "outputs": [],
      "source": [
        "!pip install groq colorama"
      ]
    },
    {
      "cell_type": "code",
      "source": [
        "from google.colab import userdata\n",
        "groq_api_key = userdata.get('groq_api_key')"
      ],
      "metadata": {
        "id": "nMvz7H839T94"
      },
      "execution_count": null,
      "outputs": []
    },
    {
      "cell_type": "code",
      "source": [
        "import os\n",
        "from pprint import pprint\n",
        "from groq import Groq\n",
        "from IPython.display import display_markdown\n",
        "import os\n",
        "import re\n",
        "import json\n",
        "from typing import Callable\n",
        "import time\n",
        "\n",
        "from colorama import Fore\n",
        "from colorama import Style"
      ],
      "metadata": {
        "id": "Jh65zaUl9T6j"
      },
      "execution_count": null,
      "outputs": []
    },
    {
      "cell_type": "code",
      "source": [
        "# MODEL = \"llama3-groq-70b-8192-tool-use-preview\"\n",
        "# MODEL = \"deepseek-r1-distill-llama-70b\"\n",
        "MODEL = \"llama-3.3-70b-versatile\"\n",
        "GROQ_CLIENT =  Groq(api_key=groq_api_key)"
      ],
      "metadata": {
        "id": "3kFil9OZ9kMZ"
      },
      "execution_count": null,
      "outputs": []
    },
    {
      "cell_type": "code",
      "source": [],
      "metadata": {
        "id": "gm23CCd39kJF"
      },
      "execution_count": null,
      "outputs": []
    },
    {
      "cell_type": "code",
      "source": [],
      "metadata": {
        "id": "ldzCu35p9kHG"
      },
      "execution_count": null,
      "outputs": []
    },
    {
      "cell_type": "code",
      "source": [],
      "metadata": {
        "id": "irVzQ7479kEV"
      },
      "execution_count": null,
      "outputs": []
    },
    {
      "cell_type": "markdown",
      "source": [
        "#**Multi agent framework**"
      ],
      "metadata": {
        "id": "lUWjd3ev9aBy"
      }
    },
    {
      "cell_type": "markdown",
      "source": [
        "##**Agent class**"
      ],
      "metadata": {
        "id": "iLdEPnOQ9UtM"
      }
    },
    {
      "cell_type": "code",
      "source": [
        "from textwrap import dedent\n",
        "\n",
        "from agentic_patterns.multiagent_pattern.crew import Crew\n",
        "from agentic_patterns.planning_pattern.react_agent import ReactAgent\n",
        "from agentic_patterns.tool_pattern.tool import Tool\n",
        "\n",
        "\n",
        "class Agent:\n",
        "    \"\"\"\n",
        "    Represents an AI agent that can work as part of a team to complete tasks.\n",
        "\n",
        "    This class implements an agent with dependencies, context handling, and task execution capabilities.\n",
        "    It can be used in a multi-agent system where agents collaborate to solve complex problems.\n",
        "\n",
        "    Attributes:\n",
        "        name (str): The name of the agent.\n",
        "        backstory (str): The backstory or background of the agent.\n",
        "        task_description (str): A description of the task assigned to the agent.\n",
        "        task_expected_output (str): The expected format or content of the task output.\n",
        "        react_agent (ReactAgent): An instance of ReactAgent used for generating responses.\n",
        "        dependencies (list[Agent]): A list of Agent instances that this agent depends on.\n",
        "        dependents (list[Agent]): A list of Agent instances that depend on this agent.\n",
        "        context (str): Accumulated context information from other agents.\n",
        "\n",
        "    Args:\n",
        "        name (str): The name of the agent.\n",
        "        backstory (str): The backstory or background of the agent.\n",
        "        task_description (str): A description of the task assigned to the agent.\n",
        "        task_expected_output (str, optional): The expected format or content of the task output. Defaults to \"\".\n",
        "        tools (list[Tool] | None, optional): A list of Tool instances available to the agent. Defaults to None.\n",
        "        llm (str, optional): The name of the language model to use. Defaults to \"llama-3.1-70b-versatile\".\n",
        "    \"\"\"\n",
        "\n",
        "    def __init__(\n",
        "        self,\n",
        "        name: str,\n",
        "        backstory: str,\n",
        "        task_description: str,\n",
        "        task_expected_output: str = \"\",\n",
        "        tools: list[Tool] | None = None,\n",
        "        llm: str = \"llama-3.1-70b-versatile\",\n",
        "    ):\n",
        "        self.name = name\n",
        "        self.backstory = backstory\n",
        "        self.task_description = task_description\n",
        "        self.task_expected_output = task_expected_output\n",
        "        self.react_agent = ReactAgent(\n",
        "            model=llm, system_prompt=self.backstory, tools=tools or []\n",
        "        )\n",
        "\n",
        "        self.dependencies: list[Agent] = []  # Agents that this agent depends on\n",
        "        self.dependents: list[Agent] = []  # Agents that depend on this agent\n",
        "\n",
        "        self.context = \"\"\n",
        "\n",
        "        # Automatically register this agent to the active Crew context if one exists\n",
        "        Crew.register_agent(self)\n",
        "\n",
        "    def __repr__(self):\n",
        "        return f\"{self.name}\"\n",
        "\n",
        "    def __rshift__(self, other):\n",
        "        \"\"\"\n",
        "        Defines the '>>' operator. This operator is used to indicate agent dependency.\n",
        "\n",
        "        Args:\n",
        "            other (Agent): The agent that depends on this agent.\n",
        "        \"\"\"\n",
        "        self.add_dependent(other)\n",
        "        return other  # Allow chaining\n",
        "\n",
        "    def __lshift__(self, other):\n",
        "        \"\"\"\n",
        "        Defines the '<<' operator to indicate agent dependency in reverse.\n",
        "\n",
        "        Args:\n",
        "            other (Agent): The agent that this agent depends on.\n",
        "\n",
        "        Returns:\n",
        "            Agent: The `other` agent to allow for chaining.\n",
        "        \"\"\"\n",
        "        self.add_dependency(other)\n",
        "        return other  # Allow chaining\n",
        "\n",
        "    def __rrshift__(self, other):\n",
        "        \"\"\"\n",
        "        Defines the '<<' operator.This operator is used to indicate agent dependency.\n",
        "\n",
        "        Args:\n",
        "            other (Agent): The agent that this agent depends on.\n",
        "        \"\"\"\n",
        "        self.add_dependency(other)\n",
        "        return self  # Allow chaining\n",
        "\n",
        "    def __rlshift__(self, other):\n",
        "        \"\"\"\n",
        "        Defines the '<<' operator when evaluated from right to left.\n",
        "        This operator is used to indicate agent dependency in the normal order.\n",
        "\n",
        "        Args:\n",
        "            other (Agent): The agent that depends on this agent.\n",
        "\n",
        "        Returns:\n",
        "            Agent: The current agent (self) to allow for chaining.\n",
        "        \"\"\"\n",
        "        self.add_dependent(other)\n",
        "        return self  # Allow chaining\n",
        "\n",
        "    def add_dependency(self, other):\n",
        "        \"\"\"\n",
        "        Adds a dependency to this agent.\n",
        "\n",
        "        Args:\n",
        "            other (Agent | list[Agent]): The agent(s) that this agent depends on.\n",
        "\n",
        "        Raises:\n",
        "            TypeError: If the dependency is not an Agent or a list of Agents.\n",
        "        \"\"\"\n",
        "        if isinstance(other, Agent):\n",
        "            self.dependencies.append(other)\n",
        "            other.dependents.append(self)\n",
        "        elif isinstance(other, list) and all(isinstance(item, Agent) for item in other):\n",
        "            for item in other:\n",
        "                self.dependencies.append(item)\n",
        "                item.dependents.append(self)\n",
        "        else:\n",
        "            raise TypeError(\"The dependency must be an instance or list of Agent.\")\n",
        "\n",
        "    def add_dependent(self, other):\n",
        "        \"\"\"\n",
        "        Adds a dependent to this agent.\n",
        "\n",
        "        Args:\n",
        "            other (Agent | list[Agent]): The agent(s) that depend on this agent.\n",
        "\n",
        "        Raises:\n",
        "            TypeError: If the dependent is not an Agent or a list of Agents.\n",
        "        \"\"\"\n",
        "        if isinstance(other, Agent):\n",
        "            other.dependencies.append(self)\n",
        "            self.dependents.append(other)\n",
        "        elif isinstance(other, list) and all(isinstance(item, Agent) for item in other):\n",
        "            for item in other:\n",
        "                item.dependencies.append(self)\n",
        "                self.dependents.append(item)\n",
        "        else:\n",
        "            raise TypeError(\"The dependent must be an instance or list of Agent.\")\n",
        "\n",
        "    def receive_context(self, input_data):\n",
        "        \"\"\"\n",
        "        Receives and stores context information from other agents.\n",
        "\n",
        "        Args:\n",
        "            input_data (str): The context information to be added.\n",
        "        \"\"\"\n",
        "        self.context += f\"{self.name} received context: \\n{input_data}\"\n",
        "\n",
        "    def create_prompt(self):\n",
        "        \"\"\"\n",
        "        Creates a prompt for the agent based on its task description, expected output, and context.\n",
        "\n",
        "        Returns:\n",
        "            str: The formatted prompt string.\n",
        "        \"\"\"\n",
        "        prompt = dedent(\n",
        "            f\"\"\"\n",
        "        You are an AI agent. You are part of a team of agents working together to complete a task.\n",
        "        I'm going to give you the task description enclosed in <task_description></task_description> tags. I'll also give\n",
        "        you the available context from the other agents in <context></context> tags. If the context\n",
        "        is not available, the <context></context> tags will be empty. You'll also receive the task\n",
        "        expected output enclosed in <task_expected_output></task_expected_output> tags. With all this information\n",
        "        you need to create the best possible response, always respecting the format as describe in\n",
        "        <task_expected_output></task_expected_output> tags. If expected output is not available, just create\n",
        "        a meaningful response to complete the task.\n",
        "\n",
        "        <task_description>\n",
        "        {self.task_description}\n",
        "        </task_description>\n",
        "\n",
        "        <task_expected_output>\n",
        "        {self.task_expected_output}\n",
        "        </task_expected_output>\n",
        "\n",
        "        <context>\n",
        "        {self.context}\n",
        "        </context>\n",
        "\n",
        "        Your response:\n",
        "        \"\"\"\n",
        "        ).strip()\n",
        "\n",
        "        return prompt\n",
        "\n",
        "    def run(self):\n",
        "        \"\"\"\n",
        "        Runs the agent's task and generates the output.\n",
        "\n",
        "        This method creates a prompt, runs it through the ReactAgent, and passes the output to all dependent agents.\n",
        "\n",
        "        Returns:\n",
        "            str: The output generated by the agent.\n",
        "        \"\"\"\n",
        "        msg = self.create_prompt()\n",
        "        output = self.react_agent.run(user_msg=msg)\n",
        "\n",
        "        # Pass the output to all dependents\n",
        "        for dependent in self.dependents:\n",
        "            dependent.receive_context(output)\n",
        "        return output"
      ],
      "metadata": {
        "id": "q5gqdF7L9UfJ"
      },
      "execution_count": null,
      "outputs": []
    },
    {
      "cell_type": "code",
      "source": [],
      "metadata": {
        "id": "QOY8g55o9Uby"
      },
      "execution_count": null,
      "outputs": []
    }
  ]
}